{
  "nbformat": 4,
  "nbformat_minor": 0,
  "metadata": {
    "colab": {
      "provenance": [],
      "gpuType": "T4"
    },
    "kernelspec": {
      "name": "python3",
      "display_name": "Python 3"
    },
    "language_info": {
      "name": "python"
    },
    "accelerator": "GPU"
  },
  "cells": [
    {
      "cell_type": "markdown",
      "source": [
        "#Pytorch Workflow\n",
        "\n",
        "Resources: https://www.learnpytorch.io/\n",
        "\n"
      ],
      "metadata": {
        "id": "SLMinXfqSjeB"
      }
    },
    {
      "cell_type": "code",
      "source": [
        "covered_topics = {1: \"data (prepare and load)\",\n",
        "                  2: \"build model\",\n",
        "                  3: \"fitting the model to the data (training)\",\n",
        "                  4: \"making predictions and evaluating a model (inference)\",\n",
        "                  5: \"Saving a loading a model\",\n",
        "                  6: \"putting it all together\"}"
      ],
      "metadata": {
        "id": "_KCxw_JBS7dX"
      },
      "execution_count": null,
      "outputs": []
    },
    {
      "cell_type": "code",
      "source": [
        "import torch\n",
        "from torch import nn #nn contains building blocks for neural networks\n",
        "import matplotlib.pyplot as plt\n",
        "\n",
        "#Check Pytorch version\n",
        "torch.__version__"
      ],
      "metadata": {
        "colab": {
          "base_uri": "https://localhost:8080/",
          "height": 35
        },
        "id": "Juf_m8sOT4Mp",
        "outputId": "b61a2cb6-a626-4224-f31a-0fd39084ec4d"
      },
      "execution_count": null,
      "outputs": [
        {
          "output_type": "execute_result",
          "data": {
            "text/plain": [
              "'2.1.0+cu121'"
            ],
            "application/vnd.google.colaboratory.intrinsic+json": {
              "type": "string"
            }
          },
          "metadata": {},
          "execution_count": 47
        }
      ]
    },
    {
      "cell_type": "markdown",
      "source": [
        "## 1. Data (preparing and loading)\n",
        "\n",
        "Almost everything:\n",
        "\n",
        "\n",
        "*   Excel spreadsheets\n",
        "*   Images\n",
        "*   Videos\n",
        "*   Audio\n",
        "*   Text\n",
        "*   DNA\n",
        "\n",
        "\n",
        "Machine learning is a game of two parts\n",
        "1. Get data into numerical representation\n",
        "2. Build model to learn patterns in that numerical representation\n",
        "\n",
        "Let's create some known data using the linear regression formula.\n",
        "\n",
        "We'll use a linear regression formula to make a straight line with a known parameters.\n",
        "\n",
        "\n"
      ],
      "metadata": {
        "id": "bWE2lfrHUPzj"
      }
    },
    {
      "cell_type": "code",
      "source": [
        "# Create known parameters\n",
        "weight = 0.7\n",
        "bias = 0.3\n",
        "\n",
        "# Create\n",
        "start = 0\n",
        "end = 1\n",
        "step = 0.02\n",
        "X = torch.arange(start, end, step).unsqueeze(dim=1)\n",
        "Y = weight * X + bias\n",
        "\n",
        "X[:10], Y[:10]"
      ],
      "metadata": {
        "colab": {
          "base_uri": "https://localhost:8080/"
        },
        "id": "bpOtRlTJape-",
        "outputId": "50d5c469-e151-4972-aa69-0e4b254ca8df"
      },
      "execution_count": null,
      "outputs": [
        {
          "output_type": "execute_result",
          "data": {
            "text/plain": [
              "(tensor([[0.0000],\n",
              "         [0.0200],\n",
              "         [0.0400],\n",
              "         [0.0600],\n",
              "         [0.0800],\n",
              "         [0.1000],\n",
              "         [0.1200],\n",
              "         [0.1400],\n",
              "         [0.1600],\n",
              "         [0.1800]]),\n",
              " tensor([[0.3000],\n",
              "         [0.3140],\n",
              "         [0.3280],\n",
              "         [0.3420],\n",
              "         [0.3560],\n",
              "         [0.3700],\n",
              "         [0.3840],\n",
              "         [0.3980],\n",
              "         [0.4120],\n",
              "         [0.4260]]))"
            ]
          },
          "metadata": {},
          "execution_count": 48
        }
      ]
    },
    {
      "cell_type": "markdown",
      "source": [
        "### Splitting data into datasets\n",
        "\n",
        "1. Training set 60-80%\n",
        "2. Validation set 10-20%\n",
        "3. Test set 10-20%\n",
        "\n",
        "Let's create a training set with our data"
      ],
      "metadata": {
        "id": "ELRnTSnqn2lv"
      }
    },
    {
      "cell_type": "code",
      "source": [
        "# Create a train/test split\n",
        "\n",
        "train_split = int(0.8 * len(X))\n",
        "X_train, Y_train = X[:train_split], Y[:train_split]\n",
        "X_test, Y_test = X[train_split:], Y[train_split:]\n",
        "\n",
        "len(X_train), len(Y_train), len(X_test), len(Y_test)"
      ],
      "metadata": {
        "colab": {
          "base_uri": "https://localhost:8080/"
        },
        "id": "SiHEHFuAohpQ",
        "outputId": "e65f72e1-0111-43fe-936c-9bdb1a761276"
      },
      "execution_count": null,
      "outputs": [
        {
          "output_type": "execute_result",
          "data": {
            "text/plain": [
              "(40, 40, 10, 10)"
            ]
          },
          "metadata": {},
          "execution_count": 49
        }
      ]
    },
    {
      "cell_type": "code",
      "source": [
        "X_train, Y_train"
      ],
      "metadata": {
        "colab": {
          "base_uri": "https://localhost:8080/"
        },
        "id": "JcWgFbcWpn3s",
        "outputId": "4cde1b95-5d51-4c69-c5bc-5ea42a7b6761"
      },
      "execution_count": null,
      "outputs": [
        {
          "output_type": "execute_result",
          "data": {
            "text/plain": [
              "(tensor([[0.0000],\n",
              "         [0.0200],\n",
              "         [0.0400],\n",
              "         [0.0600],\n",
              "         [0.0800],\n",
              "         [0.1000],\n",
              "         [0.1200],\n",
              "         [0.1400],\n",
              "         [0.1600],\n",
              "         [0.1800],\n",
              "         [0.2000],\n",
              "         [0.2200],\n",
              "         [0.2400],\n",
              "         [0.2600],\n",
              "         [0.2800],\n",
              "         [0.3000],\n",
              "         [0.3200],\n",
              "         [0.3400],\n",
              "         [0.3600],\n",
              "         [0.3800],\n",
              "         [0.4000],\n",
              "         [0.4200],\n",
              "         [0.4400],\n",
              "         [0.4600],\n",
              "         [0.4800],\n",
              "         [0.5000],\n",
              "         [0.5200],\n",
              "         [0.5400],\n",
              "         [0.5600],\n",
              "         [0.5800],\n",
              "         [0.6000],\n",
              "         [0.6200],\n",
              "         [0.6400],\n",
              "         [0.6600],\n",
              "         [0.6800],\n",
              "         [0.7000],\n",
              "         [0.7200],\n",
              "         [0.7400],\n",
              "         [0.7600],\n",
              "         [0.7800]]),\n",
              " tensor([[0.3000],\n",
              "         [0.3140],\n",
              "         [0.3280],\n",
              "         [0.3420],\n",
              "         [0.3560],\n",
              "         [0.3700],\n",
              "         [0.3840],\n",
              "         [0.3980],\n",
              "         [0.4120],\n",
              "         [0.4260],\n",
              "         [0.4400],\n",
              "         [0.4540],\n",
              "         [0.4680],\n",
              "         [0.4820],\n",
              "         [0.4960],\n",
              "         [0.5100],\n",
              "         [0.5240],\n",
              "         [0.5380],\n",
              "         [0.5520],\n",
              "         [0.5660],\n",
              "         [0.5800],\n",
              "         [0.5940],\n",
              "         [0.6080],\n",
              "         [0.6220],\n",
              "         [0.6360],\n",
              "         [0.6500],\n",
              "         [0.6640],\n",
              "         [0.6780],\n",
              "         [0.6920],\n",
              "         [0.7060],\n",
              "         [0.7200],\n",
              "         [0.7340],\n",
              "         [0.7480],\n",
              "         [0.7620],\n",
              "         [0.7760],\n",
              "         [0.7900],\n",
              "         [0.8040],\n",
              "         [0.8180],\n",
              "         [0.8320],\n",
              "         [0.8460]]))"
            ]
          },
          "metadata": {},
          "execution_count": 50
        }
      ]
    },
    {
      "cell_type": "markdown",
      "source": [
        "How might we visualize better our data?\n",
        "\n",
        "This is where the data explorer's motto comes in\n",
        "\n",
        "Visualize visualize VISUALIZE!!\n",
        "\n"
      ],
      "metadata": {
        "id": "JivgNIaOptfK"
      }
    },
    {
      "cell_type": "code",
      "source": [
        "def plot_predictions(train_data=X_train, train_labels=Y_train,\n",
        "                     test_data=X_test, test_labels=Y_test,\n",
        "                     predictions=None):\n",
        "  \"\"\"\n",
        "  Plots training and test data and compares predictions\n",
        "  \"\"\"\n",
        "  plt.figure(figsize=(10,7))\n",
        "\n",
        "  # Plot training data in blue\n",
        "  plt.scatter(train_data, train_labels, c=\"b\", s=4, label=\"Training data\")\n",
        "\n",
        "  # Plot testing data in green\n",
        "  plt.scatter(test_data, test_labels, c=\"g\", s=4, label=\"Testing data\")\n",
        "\n",
        "  # Are there predictions?\n",
        "  if predictions is not None:\n",
        "    # Plot the predictions if they exist\n",
        "    plt.scatter(test_data, predictions, c=\"r\", s=4, label=\"Predictions\")\n",
        "\n",
        "  # Show the legend\n",
        "  plt.legend(prop={\"size\":14});\n",
        "\n"
      ],
      "metadata": {
        "id": "jzWcXjTFp4jl"
      },
      "execution_count": null,
      "outputs": []
    },
    {
      "cell_type": "code",
      "source": [
        "plot_predictions()"
      ],
      "metadata": {
        "colab": {
          "base_uri": "https://localhost:8080/",
          "height": 460
        },
        "id": "5k-uLpnlruWp",
        "outputId": "9c46c198-61dc-4d18-a7d1-d22b6d43692a"
      },
      "execution_count": null,
      "outputs": [
        {
          "output_type": "display_data",
          "data": {
            "text/plain": [
              "<Figure size 1000x700 with 1 Axes>"
            ],
            "image/png": "[encoded data removed]"
          },
          "metadata": {}
        }
      ]
    },
    {
      "cell_type": "markdown",
      "source": [
        "## 2. Building a Pytorch model\n",
        "\n",
        "\n",
        "What the model does:\n",
        "\n",
        "Start with random values\n",
        "\n",
        "Look at training data and adjust the random value to better represent the ideal values (the weigth and bias values previously created)\n",
        "\n",
        "\n",
        "How does it do it?\n",
        "\n",
        "1.Gradient Descent\n",
        "\n",
        "2.Backpropagation"
      ],
      "metadata": {
        "id": "rkXsgDohu2lR"
      }
    },
    {
      "cell_type": "code",
      "source": [
        "from torch import nn\n",
        "\n",
        "# Create Linear regression model class\n",
        "class LinearRregressionModel(nn.Module):\n",
        "  def __init__(self):\n",
        "    super().__init__()\n",
        "    self.weights = nn.Parameter(torch.randn(1,\n",
        "                                            requires_grad=True,\n",
        "                                            dtype=torch.float))\n",
        "    self.bias = nn.Parameter(torch.randn(1,\n",
        "                                         requires_grad=True,\n",
        "                                         dtype=torch.float))\n",
        "\n",
        "  #Forward method to define the computation in the model\n",
        "  def forward(self, x:torch.Tensor) -> torch.Tensor:\n",
        "    return self.weights * x + self.bias\n",
        "\n"
      ],
      "metadata": {
        "id": "u5eiIhZJvCwr"
      },
      "execution_count": null,
      "outputs": []
    },
    {
      "cell_type": "markdown",
      "source": [
        "###Pytorch Model building essentials\n",
        "\n",
        "* torch.nn contains all of the building blocks for computational graphs (a neural networks can be considered a computational graph)\n",
        "* torch.nn.Parameter what parameters should our model try and learn often Pytorch layer from torch.nn will set these for us\n",
        "* torch.nn.Module The base class for all neural network modules if you subclass it you should overwrite it forward()\n",
        "* torch.optim this is where the optimizers in Pytorch live\n",
        "* def forward() All nn.Module subclasses require you to overwrite forward(), this method defines what happens in the forward computation\n",
        "\n",
        "\n",
        "See more of these modules via the Pytorch cheatsheet:https://pytorch.org/tutorials/beginner/ptcheat.html\n",
        "\n",
        "\n"
      ],
      "metadata": {
        "id": "LI-hoAqzKHO1"
      }
    },
    {
      "cell_type": "markdown",
      "source": [
        "## Checking the contens in the Pytorch Model\n",
        "\n",
        "Model Parameters can be checked using .parameters()."
      ],
      "metadata": {
        "id": "jI4uSe0SNkVh"
      }
    },
    {
      "cell_type": "code",
      "source": [
        "# Create random seed\n",
        "torch.manual_seed(42)\n",
        "\n",
        "# We create a model\n",
        "model_0 = LinearRregressionModel()\n",
        "\n",
        "# Checkout the parameters\n",
        "\n",
        "list(model_0.parameters())"
      ],
      "metadata": {
        "colab": {
          "base_uri": "https://localhost:8080/"
        },
        "id": "t17RKoa4NxmX",
        "outputId": "56a1693e-2688-4fab-bcf3-badcee0914b8"
      },
      "execution_count": null,
      "outputs": [
        {
          "output_type": "execute_result",
          "data": {
            "text/plain": [
              "[Parameter containing:\n",
              " tensor([0.3367], requires_grad=True),\n",
              " Parameter containing:\n",
              " tensor([0.1288], requires_grad=True)]"
            ]
          },
          "metadata": {},
          "execution_count": 54
        }
      ]
    },
    {
      "cell_type": "code",
      "source": [
        "model_0.state_dict()"
      ],
      "metadata": {
        "colab": {
          "base_uri": "https://localhost:8080/"
        },
        "id": "vu1O8vIzOgLy",
        "outputId": "46cc6456-fbf8-4841-d4fa-34da7856002e"
      },
      "execution_count": null,
      "outputs": [
        {
          "output_type": "execute_result",
          "data": {
            "text/plain": [
              "OrderedDict([('weights', tensor([0.3367])), ('bias', tensor([0.1288]))])"
            ]
          },
          "metadata": {},
          "execution_count": 55
        }
      ]
    },
    {
      "cell_type": "markdown",
      "source": [
        "### Making predictions using 'torch.interference_mode()'\n",
        "\n",
        "Let's see how well predicts y_test based on x_test\n",
        "\n",
        "When passing data to the model it's going to run through the forward() method"
      ],
      "metadata": {
        "id": "bSPEuVcOO-Rh"
      }
    },
    {
      "cell_type": "code",
      "source": [
        "y_preds = model_0(X_test)\n",
        "\n",
        "y_preds"
      ],
      "metadata": {
        "colab": {
          "base_uri": "https://localhost:8080/"
        },
        "id": "butNO0_zUYGg",
        "outputId": "b9895864-cdd2-444f-d228-6a5edfeb5f75"
      },
      "execution_count": null,
      "outputs": [
        {
          "output_type": "execute_result",
          "data": {
            "text/plain": [
              "tensor([[0.3982],\n",
              "        [0.4049],\n",
              "        [0.4116],\n",
              "        [0.4184],\n",
              "        [0.4251],\n",
              "        [0.4318],\n",
              "        [0.4386],\n",
              "        [0.4453],\n",
              "        [0.4520],\n",
              "        [0.4588]], grad_fn=<AddBackward0>)"
            ]
          },
          "metadata": {},
          "execution_count": 56
        }
      ]
    },
    {
      "cell_type": "code",
      "source": [
        "#Make predictions with model\n",
        "with torch.inference_mode():\n",
        "  y_preds = model_0(X_test)\n",
        "\n",
        "y_preds\n",
        "\n",
        "#Inference mode disables grad_fn and is preferable than torch.nograd"
      ],
      "metadata": {
        "colab": {
          "base_uri": "https://localhost:8080/"
        },
        "id": "BHGwsMizQp61",
        "outputId": "4a70b679-0738-4dbc-e812-b9a1bfb2f1ee"
      },
      "execution_count": null,
      "outputs": [
        {
          "output_type": "execute_result",
          "data": {
            "text/plain": [
              "tensor([[0.3982],\n",
              "        [0.4049],\n",
              "        [0.4116],\n",
              "        [0.4184],\n",
              "        [0.4251],\n",
              "        [0.4318],\n",
              "        [0.4386],\n",
              "        [0.4453],\n",
              "        [0.4520],\n",
              "        [0.4588]])"
            ]
          },
          "metadata": {},
          "execution_count": 57
        }
      ]
    },
    {
      "cell_type": "markdown",
      "source": [],
      "metadata": {
        "id": "wnlfwcGRU2QM"
      }
    },
    {
      "cell_type": "code",
      "source": [
        "Y_test"
      ],
      "metadata": {
        "colab": {
          "base_uri": "https://localhost:8080/"
        },
        "id": "YXJ1AY2QTvXW",
        "outputId": "439e4239-8f82-41e4-8e66-896493826025"
      },
      "execution_count": null,
      "outputs": [
        {
          "output_type": "execute_result",
          "data": {
            "text/plain": [
              "tensor([[0.8600],\n",
              "        [0.8740],\n",
              "        [0.8880],\n",
              "        [0.9020],\n",
              "        [0.9160],\n",
              "        [0.9300],\n",
              "        [0.9440],\n",
              "        [0.9580],\n",
              "        [0.9720],\n",
              "        [0.9860]])"
            ]
          },
          "metadata": {},
          "execution_count": 58
        }
      ]
    },
    {
      "cell_type": "code",
      "source": [
        "plot_predictions(predictions=y_preds)"
      ],
      "metadata": {
        "colab": {
          "base_uri": "https://localhost:8080/",
          "height": 460
        },
        "id": "gv11Me1YT5RP",
        "outputId": "11f84411-6712-465b-9c70-c8527f3b0e9b"
      },
      "execution_count": null,
      "outputs": [
        {
          "output_type": "display_data",
          "data": {
            "text/plain": [
              "<Figure size 1000x700 with 1 Axes>"
            ],
            "image/png": "[encoded data removed]"
          },
          "metadata": {}
        }
      ]
    },
    {
      "cell_type": "markdown",
      "source": [
        "##3. Train Model\n",
        "\n",
        "The whole idea is for a training model to move from some uknown parameters to some known parameters.\n",
        "\n",
        "From a poor representation of data to a better one.\n",
        "\n",
        "One way to measure how the models predictions are is through loss functions.\n",
        "\n",
        "Note: Loss function can be called also cost function or criterion\n",
        "\n",
        "Function that measures how wrong the model's predictions are.\n",
        "\n",
        "\n",
        "Things we need to train:\n",
        "\n",
        "***Loss function***\n",
        "\n",
        "\n",
        "\n",
        "***Optimizer:*** takes into account the loss of a model and adjust the model's parameters (weight and bias in our case) to improve the loss function\n",
        "\n",
        "\n",
        "And specifically in Pytorch we need a training loop and a testing loop"
      ],
      "metadata": {
        "id": "06PMuwxhU5Nl"
      }
    },
    {
      "cell_type": "code",
      "source": [
        "list(model_0.parameters())"
      ],
      "metadata": {
        "colab": {
          "base_uri": "https://localhost:8080/"
        },
        "id": "O3gfdGkjVsJH",
        "outputId": "6206eafa-2bc5-47ac-f9e6-93c7b9a220ab"
      },
      "execution_count": null,
      "outputs": [
        {
          "output_type": "execute_result",
          "data": {
            "text/plain": [
              "[Parameter containing:\n",
              " tensor([0.3367], requires_grad=True),\n",
              " Parameter containing:\n",
              " tensor([0.1288], requires_grad=True)]"
            ]
          },
          "metadata": {},
          "execution_count": 60
        }
      ]
    },
    {
      "cell_type": "code",
      "source": [
        "# Check out the parameters (value that sets itself)\n",
        "model_0.state_dict()"
      ],
      "metadata": {
        "colab": {
          "base_uri": "https://localhost:8080/"
        },
        "id": "00y6d-G8WNoR",
        "outputId": "54e75021-a3df-42cc-e594-dd52ff284be3"
      },
      "execution_count": null,
      "outputs": [
        {
          "output_type": "execute_result",
          "data": {
            "text/plain": [
              "OrderedDict([('weights', tensor([0.3367])), ('bias', tensor([0.1288]))])"
            ]
          },
          "metadata": {},
          "execution_count": 61
        }
      ]
    },
    {
      "cell_type": "code",
      "source": [
        "# Setup a loss function\n",
        "loss_fn = nn.L1Loss()\n",
        "\n",
        "# Setup an optimizer (Stochastic Gradient Descent)\n",
        "\n",
        "optimizer = torch.optim.SGD(params=model_0.parameters(),\n",
        "                          lr = 0.01)# lr = learning rate the most important hyperparameter\n"
      ],
      "metadata": {
        "id": "j8hPnXCGXU3l"
      },
      "execution_count": null,
      "outputs": []
    },
    {
      "cell_type": "code",
      "source": [
        "loss_fn"
      ],
      "metadata": {
        "colab": {
          "base_uri": "https://localhost:8080/"
        },
        "id": "GucGRVxYXhWK",
        "outputId": "187fd1bf-b6b1-4397-84ab-ea8dcdf9fd6e"
      },
      "execution_count": null,
      "outputs": [
        {
          "output_type": "execute_result",
          "data": {
            "text/plain": [
              "L1Loss()"
            ]
          },
          "metadata": {},
          "execution_count": 63
        }
      ]
    },
    {
      "cell_type": "markdown",
      "source": [
        "### Building a training loop (and testing loop) in Pytorch\n",
        "\n",
        "Things we need:\n",
        "\n",
        "1. Loop through data\n",
        "\n",
        "2. Forward pass (this involves data moving through our model's forward() functions) - also called forward propagation\n",
        "\n",
        "3. Calculate the loss (compare forward pass predictions to ground truth labels)\n",
        "\n",
        "4. Optimizer zero grad\n",
        "\n",
        "5. Loss backward (move backwards through the network to calculate the gradients of each of the parameters of our model with respect our loss) (Backpropagation)\n",
        "\n",
        "6. Optimizer step (Gradient descent)\n",
        "\n",
        "\n",
        "\n"
      ],
      "metadata": {
        "id": "j3D56v6Tew0J"
      }
    },
    {
      "cell_type": "code",
      "source": [
        "# An epoch is one loop through the data ...\n",
        "epochs = 200\n",
        "### Training\n",
        "epoch_count = []\n",
        "loss_values = []\n",
        "test_loss_values = []\n",
        "\n",
        "# 1 Loop through the data\n",
        "for epoch in range(epochs):\n",
        "  # set thed model to training mode\n",
        "  model_0.train() # train mode in Python sets all parameters that require gradients to require gradients\n",
        "\n",
        "  # 1. Forward pass\n",
        "  y_pred = model_0(X_train)\n",
        "\n",
        "  # 2. Calculate the loss\n",
        "  loss = loss_fn(y_pred, Y_train)\n",
        "\n",
        "  #3. Optimizer zero grad\n",
        "  optimizer.zero_grad()\n",
        "\n",
        "  #4. perform backpropagation on the loss with respect to the parameters of the model\n",
        "  loss.backward()\n",
        "\n",
        "  #5. Step the optimizer (perform the gradient descent)\n",
        "  optimizer.step() #By default how the optimizer changes will accumulate through the loop so...\n",
        "  #we have to zero them above in step 3 for the next iteration of the loop\n",
        "\n",
        "  model_0.eval() # turns off fifferent settings in the model not needed for evaluation\n",
        "  with torch.inference_mode():# turns off gradient tracking\n",
        "    # 1. do the forward pass\n",
        "    test_pred = model_0(X_test)\n",
        "\n",
        "    test_loss = loss_fn(test_pred, Y_test)\n",
        "  if epoch%10 == 0:\n",
        "    epoch_count.append(epoch)\n",
        "    loss_values.append(loss)\n",
        "    test_loss_values.append(test_loss)\n",
        "    print(f\"Epoch: {epoch} | Loss: {loss} | Test loss: {test_loss}\")\n",
        "print(model_0.state_dict())"
      ],
      "metadata": {
        "colab": {
          "base_uri": "https://localhost:8080/"
        },
        "id": "uz1uNUEleuuo",
        "outputId": "ef881a74-23ed-4cf7-fc6e-96c11de73a48"
      },
      "execution_count": null,
      "outputs": [
        {
          "output_type": "stream",
          "name": "stdout",
          "text": [
            "Epoch: 0 | Loss: 0.31288138031959534 | Test loss: 0.48106518387794495\n",
            "Epoch: 10 | Loss: 0.1976713240146637 | Test loss: 0.3463551998138428\n",
            "Epoch: 20 | Loss: 0.08908725529909134 | Test loss: 0.21729660034179688\n",
            "Epoch: 30 | Loss: 0.053148526698350906 | Test loss: 0.14464017748832703\n",
            "Epoch: 40 | Loss: 0.04543796554207802 | Test loss: 0.11360953003168106\n",
            "Epoch: 50 | Loss: 0.04167863354086876 | Test loss: 0.09919948130846024\n",
            "Epoch: 60 | Loss: 0.03818932920694351 | Test loss: 0.08886633068323135\n",
            "Epoch: 70 | Loss: 0.03476089984178543 | Test loss: 0.0805937647819519\n",
            "Epoch: 80 | Loss: 0.03132382780313492 | Test loss: 0.07232122868299484\n",
            "Epoch: 90 | Loss: 0.02788739837706089 | Test loss: 0.06473556160926819\n",
            "Epoch: 100 | Loss: 0.024458957836031914 | Test loss: 0.05646304413676262\n",
            "Epoch: 110 | Loss: 0.021020207554101944 | Test loss: 0.04819049686193466\n",
            "Epoch: 120 | Loss: 0.01758546568453312 | Test loss: 0.04060482233762741\n",
            "Epoch: 130 | Loss: 0.014155393466353416 | Test loss: 0.03233227878808975\n",
            "Epoch: 140 | Loss: 0.010716589167714119 | Test loss: 0.024059748277068138\n",
            "Epoch: 150 | Loss: 0.0072835334576666355 | Test loss: 0.016474086791276932\n",
            "Epoch: 160 | Loss: 0.0038517764769494534 | Test loss: 0.008201557211577892\n",
            "Epoch: 170 | Loss: 0.008932482451200485 | Test loss: 0.005023092031478882\n",
            "Epoch: 180 | Loss: 0.008932482451200485 | Test loss: 0.005023092031478882\n",
            "Epoch: 190 | Loss: 0.008932482451200485 | Test loss: 0.005023092031478882\n",
            "Epoch: 200 | Loss: 0.008932482451200485 | Test loss: 0.005023092031478882\n",
            "Epoch: 210 | Loss: 0.008932482451200485 | Test loss: 0.005023092031478882\n",
            "Epoch: 220 | Loss: 0.008932482451200485 | Test loss: 0.005023092031478882\n",
            "Epoch: 230 | Loss: 0.008932482451200485 | Test loss: 0.005023092031478882\n",
            "Epoch: 240 | Loss: 0.008932482451200485 | Test loss: 0.005023092031478882\n",
            "Epoch: 250 | Loss: 0.008932482451200485 | Test loss: 0.005023092031478882\n",
            "Epoch: 260 | Loss: 0.008932482451200485 | Test loss: 0.005023092031478882\n",
            "Epoch: 270 | Loss: 0.008932482451200485 | Test loss: 0.005023092031478882\n",
            "Epoch: 280 | Loss: 0.008932482451200485 | Test loss: 0.005023092031478882\n",
            "Epoch: 290 | Loss: 0.008932482451200485 | Test loss: 0.005023092031478882\n",
            "Epoch: 300 | Loss: 0.008932482451200485 | Test loss: 0.005023092031478882\n",
            "Epoch: 310 | Loss: 0.008932482451200485 | Test loss: 0.005023092031478882\n",
            "Epoch: 320 | Loss: 0.008932482451200485 | Test loss: 0.005023092031478882\n",
            "Epoch: 330 | Loss: 0.008932482451200485 | Test loss: 0.005023092031478882\n",
            "Epoch: 340 | Loss: 0.008932482451200485 | Test loss: 0.005023092031478882\n",
            "Epoch: 350 | Loss: 0.008932482451200485 | Test loss: 0.005023092031478882\n",
            "Epoch: 360 | Loss: 0.008932482451200485 | Test loss: 0.005023092031478882\n",
            "Epoch: 370 | Loss: 0.008932482451200485 | Test loss: 0.005023092031478882\n",
            "Epoch: 380 | Loss: 0.008932482451200485 | Test loss: 0.005023092031478882\n",
            "Epoch: 390 | Loss: 0.008932482451200485 | Test loss: 0.005023092031478882\n",
            "Epoch: 400 | Loss: 0.008932482451200485 | Test loss: 0.005023092031478882\n",
            "Epoch: 410 | Loss: 0.008932482451200485 | Test loss: 0.005023092031478882\n",
            "Epoch: 420 | Loss: 0.008932482451200485 | Test loss: 0.005023092031478882\n",
            "Epoch: 430 | Loss: 0.008932482451200485 | Test loss: 0.005023092031478882\n",
            "Epoch: 440 | Loss: 0.008932482451200485 | Test loss: 0.005023092031478882\n",
            "Epoch: 450 | Loss: 0.008932482451200485 | Test loss: 0.005023092031478882\n",
            "Epoch: 460 | Loss: 0.008932482451200485 | Test loss: 0.005023092031478882\n",
            "Epoch: 470 | Loss: 0.008932482451200485 | Test loss: 0.005023092031478882\n",
            "Epoch: 480 | Loss: 0.008932482451200485 | Test loss: 0.005023092031478882\n",
            "Epoch: 490 | Loss: 0.008932482451200485 | Test loss: 0.005023092031478882\n",
            "OrderedDict([('weights', tensor([0.6990])), ('bias', tensor([0.3093]))])\n"
          ]
        }
      ]
    },
    {
      "cell_type": "code",
      "source": [
        "model_0.state_dict()"
      ],
      "metadata": {
        "colab": {
          "base_uri": "https://localhost:8080/"
        },
        "id": "EIgAGo7CpC4C",
        "outputId": "f1ae4774-3094-4050-9d8a-f51fecf44516"
      },
      "execution_count": null,
      "outputs": [
        {
          "output_type": "execute_result",
          "data": {
            "text/plain": [
              "OrderedDict([('weights', tensor([0.6990])), ('bias', tensor([0.3093]))])"
            ]
          },
          "metadata": {},
          "execution_count": 65
        }
      ]
    },
    {
      "cell_type": "code",
      "source": [
        "model_0.state_dict()"
      ],
      "metadata": {
        "colab": {
          "base_uri": "https://localhost:8080/"
        },
        "id": "vn1Afs2PpUqw",
        "outputId": "81d76215-a820-49bb-fd9e-a0846f41bd51"
      },
      "execution_count": null,
      "outputs": [
        {
          "output_type": "execute_result",
          "data": {
            "text/plain": [
              "OrderedDict([('weights', tensor([0.6990])), ('bias', tensor([0.3093]))])"
            ]
          },
          "metadata": {},
          "execution_count": 66
        }
      ]
    },
    {
      "cell_type": "code",
      "source": [
        "weight, bias"
      ],
      "metadata": {
        "colab": {
          "base_uri": "https://localhost:8080/"
        },
        "id": "vGw0_EFypGvn",
        "outputId": "5452693a-fe30-46b3-b2e2-4b32a84d7ef0"
      },
      "execution_count": null,
      "outputs": [
        {
          "output_type": "execute_result",
          "data": {
            "text/plain": [
              "(0.7, 0.3)"
            ]
          },
          "metadata": {},
          "execution_count": 67
        }
      ]
    },
    {
      "cell_type": "code",
      "source": [
        "plot_predictions(predictions=y_preds)"
      ],
      "metadata": {
        "colab": {
          "base_uri": "https://localhost:8080/",
          "height": 460
        },
        "id": "aVqQe3KRptsH",
        "outputId": "2e108e10-c213-4682-f48a-4f93b20dc830"
      },
      "execution_count": null,
      "outputs": [
        {
          "output_type": "display_data",
          "data": {
            "text/plain": [
              "<Figure size 1000x700 with 1 Axes>"
            ],
            "image/png": "[encoded data removed]"
          },
          "metadata": {}
        }
      ]
    },
    {
      "cell_type": "code",
      "source": [
        "with torch.inference_mode():\n",
        "  y_preds_new = model_0(X_test)"
      ],
      "metadata": {
        "id": "Gy8IYTy5qHwF"
      },
      "execution_count": null,
      "outputs": []
    },
    {
      "cell_type": "code",
      "source": [
        "plot_predictions(predictions=y_preds_new)"
      ],
      "metadata": {
        "colab": {
          "base_uri": "https://localhost:8080/",
          "height": 460
        },
        "id": "zsBvCP8qqRx8",
        "outputId": "17a45c02-e5fd-4f0b-f43d-b762a540cf25"
      },
      "execution_count": null,
      "outputs": [
        {
          "output_type": "display_data",
          "data": {
            "text/plain": [
              "<Figure size 1000x700 with 1 Axes>"
            ],
            "image/png": "[encoded data removed]"
          },
          "metadata": {}
        }
      ]
    },
    {
      "cell_type": "code",
      "source": [
        "import numpy as np\n",
        "\n",
        "plt.plot(epoch_count, np.array(torch.tensor(loss_values).numpy()), label=\"Train loss\")\n",
        "plt.plot(epoch_count, test_loss_values, label=\"Test loss\")\n",
        "plt.title(\"Training test and loss curves\")\n",
        "plt.ylabel(\"Loss\")\n",
        "plt.xlabel(\"Epochs\")\n",
        "plt.legend();"
      ],
      "metadata": {
        "colab": {
          "base_uri": "https://localhost:8080/",
          "height": 472
        },
        "id": "wtvhLqbGnKSq",
        "outputId": "f7913c44-95a7-4a80-9125-07cc9aa61ec2"
      },
      "execution_count": null,
      "outputs": [
        {
          "output_type": "display_data",
          "data": {
            "text/plain": [
              "<Figure size 640x480 with 1 Axes>"
            ],
            "image/png": "[encoded data removed]"
          },
          "metadata": {}
        }
      ]
    },
    {
      "cell_type": "markdown",
      "source": [
        "### Saving a model in Pytorch\n",
        "3 main methods:\n",
        "\n",
        "1. 'torch.save()'\n",
        "2. 'torch.load()'\n",
        "3. 'torch.nn.Module.load_state_dict()'"
      ],
      "metadata": {
        "id": "deR16fSzpFhR"
      }
    },
    {
      "cell_type": "code",
      "source": [
        "from pathlib import Path\n",
        "\n",
        "# 1. Create models directory\n",
        "MODEL_PATH = Path(\"models\")\n",
        "MODEL_PATH.mkdir(parents=True, exist_ok=True)\n",
        "\n",
        "# 2. Create model save path\n",
        "MODEL_NAME = \"01_pytorch_workflow_model_0.pth\"\n",
        "MODEL_SAVE_PATH = MODEL_PATH / MODEL_NAME\n",
        "\n",
        "# 3. Save the model state dict\n",
        "print(f\"Saving the model to: {MODEL_SAVE_PATH} \")\n",
        "torch.save(obj=model_0.state_dict(),\n",
        "           f = MODEL_SAVE_PATH)"
      ],
      "metadata": {
        "colab": {
          "base_uri": "https://localhost:8080/"
        },
        "id": "vJ92zN5Ip6Gq",
        "outputId": "5fb2e2d5-4715-420b-ae9d-0aef78096c05"
      },
      "execution_count": null,
      "outputs": [
        {
          "output_type": "stream",
          "name": "stdout",
          "text": [
            "Saving the model to: models/01_pytorch_workflow_model_0.pth \n"
          ]
        }
      ]
    },
    {
      "cell_type": "markdown",
      "source": [
        "## Loading a Pytorch Model\n",
        "\n",
        "Since we saved our model's state_dict() rather than the entire model, we'll create a new instance of our model class and load the saved state_dict() into that"
      ],
      "metadata": {
        "id": "G2PekzdTrZ7S"
      }
    },
    {
      "cell_type": "code",
      "source": [
        "# To load in a saved state_dict we have to instantiate a new instance of our model class\n",
        "loaded_model_0 = LinearRregressionModel()\n",
        "# Load the saved state_dict of model_0 (this will update the new instance with updated parameters)\n",
        "\n",
        "state_dict = torch.load(f=MODEL_SAVE_PATH)\n",
        "loaded_model_0.load_state_dict(state_dict)"
      ],
      "metadata": {
        "colab": {
          "base_uri": "https://localhost:8080/"
        },
        "id": "0umPW0ZEr0nP",
        "outputId": "858b36f1-bd4b-4026-ac3e-6d8578fb6bae"
      },
      "execution_count": null,
      "outputs": [
        {
          "output_type": "execute_result",
          "data": {
            "text/plain": [
              "<All keys matched successfully>"
            ]
          },
          "metadata": {},
          "execution_count": 80
        }
      ]
    },
    {
      "cell_type": "code",
      "source": [
        "loaded_model_0.state_dict()"
      ],
      "metadata": {
        "colab": {
          "base_uri": "https://localhost:8080/"
        },
        "id": "r-NbgnS0uNwT",
        "outputId": "aacadaae-957f-41af-b6a3-00692317090f"
      },
      "execution_count": null,
      "outputs": [
        {
          "output_type": "execute_result",
          "data": {
            "text/plain": [
              "OrderedDict([('weights', tensor([0.6990])), ('bias', tensor([0.3093]))])"
            ]
          },
          "metadata": {},
          "execution_count": 81
        }
      ]
    },
    {
      "cell_type": "code",
      "source": [
        "# Make some predictions with our loaded model\n",
        "\n",
        "loaded_model_0.eval()\n",
        "with torch.inference_mode():\n",
        "  loaded_model_preds = loaded_model_0(X_test)\n",
        "\n",
        "loaded_model_preds"
      ],
      "metadata": {
        "colab": {
          "base_uri": "https://localhost:8080/"
        },
        "id": "ZNsD2gBOuUgR",
        "outputId": "7c9ec884-cc6f-4545-eb11-7335e1b1781c"
      },
      "execution_count": null,
      "outputs": [
        {
          "output_type": "execute_result",
          "data": {
            "text/plain": [
              "tensor([[0.8685],\n",
              "        [0.8825],\n",
              "        [0.8965],\n",
              "        [0.9105],\n",
              "        [0.9245],\n",
              "        [0.9384],\n",
              "        [0.9524],\n",
              "        [0.9664],\n",
              "        [0.9804],\n",
              "        [0.9944]])"
            ]
          },
          "metadata": {},
          "execution_count": 82
        }
      ]
    },
    {
      "cell_type": "code",
      "source": [
        "# Make some model preds\n",
        "model_0.eval()\n",
        "with torch.inference_mode():\n",
        "  y_preds = model_0(X_test)"
      ],
      "metadata": {
        "id": "-HcecTjLu0Z4"
      },
      "execution_count": null,
      "outputs": []
    },
    {
      "cell_type": "code",
      "source": [
        "# Compare model preds with oringinal model preds\n",
        "y_preds == loaded_model_preds"
      ],
      "metadata": {
        "colab": {
          "base_uri": "https://localhost:8080/"
        },
        "id": "rjzMNthXusAa",
        "outputId": "194e0f7e-942e-415b-bfc0-65801e4d55e8"
      },
      "execution_count": null,
      "outputs": [
        {
          "output_type": "execute_result",
          "data": {
            "text/plain": [
              "tensor([[True],\n",
              "        [True],\n",
              "        [True],\n",
              "        [True],\n",
              "        [True],\n",
              "        [True],\n",
              "        [True],\n",
              "        [True],\n",
              "        [True],\n",
              "        [True]])"
            ]
          },
          "metadata": {},
          "execution_count": 86
        }
      ]
    },
    {
      "cell_type": "markdown",
      "source": [
        "### 6. Putting all together"
      ],
      "metadata": {
        "id": "grg8RfwLvr9H"
      }
    },
    {
      "cell_type": "code",
      "source": [
        "# Import Pytorch\n",
        "import torch\n",
        "from torch import nn\n",
        "import matplotlib.pyplot as plt\n",
        "\n",
        "torch.__version__"
      ],
      "metadata": {
        "colab": {
          "base_uri": "https://localhost:8080/",
          "height": 35
        },
        "id": "cGRuZ7BYvzmr",
        "outputId": "601d5876-8273-4ab2-8d75-fcd4cff343df"
      },
      "execution_count": null,
      "outputs": [
        {
          "output_type": "execute_result",
          "data": {
            "text/plain": [
              "'2.1.0+cu121'"
            ],
            "application/vnd.google.colaboratory.intrinsic+json": {
              "type": "string"
            }
          },
          "metadata": {},
          "execution_count": 91
        }
      ]
    },
    {
      "cell_type": "markdown",
      "source": [
        "Create device agnostic code\n",
        "\n",
        "This means if we've got no acces on the GPU (our code will use it for faster computing)\n",
        "If no GPU is available, the code will default to using CPU\n"
      ],
      "metadata": {
        "id": "pwMARqbywC_A"
      }
    },
    {
      "cell_type": "code",
      "source": [
        "# Setup device agnostic code\n",
        "device = \"cuda\" if torch.cuda.is_available() else \"cpu\"\n",
        "print(f\"Using device {device}\")"
      ],
      "metadata": {
        "colab": {
          "base_uri": "https://localhost:8080/"
        },
        "id": "sT57UsDowSM7",
        "outputId": "ed340e41-3b89-4de8-97b5-df0e5bf55dce"
      },
      "execution_count": null,
      "outputs": [
        {
          "output_type": "stream",
          "name": "stdout",
          "text": [
            "Using device cuda\n"
          ]
        }
      ]
    },
    {
      "cell_type": "markdown",
      "source": [
        "## 6.1 Data"
      ],
      "metadata": {
        "id": "Z6IhXkv5wne5"
      }
    },
    {
      "cell_type": "code",
      "source": [
        "# Create some data using the linear regression formula y=ax+b\n",
        "weight = 0.8\n",
        "bias = 0.2\n",
        "\n",
        "# Create range values\n",
        "start = 0\n",
        "end = 1\n",
        "step = 0.02\n",
        "\n",
        "# Create X and Y (features and labels)\n",
        "X = torch.arange(start, end, step).unsqueeze(dim=1)\n",
        "Y = weight * X + bias\n",
        "\n",
        "X[:10], Y[:10]"
      ],
      "metadata": {
        "colab": {
          "base_uri": "https://localhost:8080/"
        },
        "id": "Izzps6K5wrVH",
        "outputId": "8f42288b-eb64-45c7-a587-81da77970907"
      },
      "execution_count": null,
      "outputs": [
        {
          "output_type": "execute_result",
          "data": {
            "text/plain": [
              "(tensor([[0.0000],\n",
              "         [0.0200],\n",
              "         [0.0400],\n",
              "         [0.0600],\n",
              "         [0.0800],\n",
              "         [0.1000],\n",
              "         [0.1200],\n",
              "         [0.1400],\n",
              "         [0.1600],\n",
              "         [0.1800]]),\n",
              " tensor([[0.2000],\n",
              "         [0.2160],\n",
              "         [0.2320],\n",
              "         [0.2480],\n",
              "         [0.2640],\n",
              "         [0.2800],\n",
              "         [0.2960],\n",
              "         [0.3120],\n",
              "         [0.3280],\n",
              "         [0.3440]]))"
            ]
          },
          "metadata": {},
          "execution_count": 93
        }
      ]
    },
    {
      "cell_type": "code",
      "source": [
        "# Split data\n",
        "train_split = int(0.8 * len(X))\n",
        "X_train, Y_train = X[:train_split], Y[:train_split]\n",
        "X_test, Y_test = X[train_split:], Y[train_split:]\n",
        "len(X_train), len(Y_train), len(X_test), len(Y_test)"
      ],
      "metadata": {
        "colab": {
          "base_uri": "https://localhost:8080/"
        },
        "id": "rPTygDNtxZ0H",
        "outputId": "9802d268-342b-456e-fdce-ea7393acdcfd"
      },
      "execution_count": null,
      "outputs": [
        {
          "output_type": "execute_result",
          "data": {
            "text/plain": [
              "(40, 40, 10, 10)"
            ]
          },
          "metadata": {},
          "execution_count": 95
        }
      ]
    },
    {
      "cell_type": "code",
      "source": [
        "# Plot the data\n",
        "# Note: if you have the plot_predictions() function loaded, this will be error\n",
        "\n",
        "plot_predictions(X_train, Y_train, X_test, Y_test)"
      ],
      "metadata": {
        "colab": {
          "base_uri": "https://localhost:8080/",
          "height": 460
        },
        "id": "BSw1qOMTyHnB",
        "outputId": "6ece4cae-8b10-432c-f7eb-4afc315839ef"
      },
      "execution_count": null,
      "outputs": [
        {
          "output_type": "display_data",
          "data": {
            "text/plain": [
              "<Figure size 1000x700 with 1 Axes>"
            ],
            "image/png": "[encoded data removed]"
          },
          "metadata": {}
        }
      ]
    },
    {
      "cell_type": "markdown",
      "source": [
        "#6.2 Building a Pytorch linear model"
      ],
      "metadata": {
        "id": "KWkF1yrPylxe"
      }
    },
    {
      "cell_type": "code",
      "source": [
        "# create a linear model by subclassing nn.Module\n",
        "class LinearRregressionModelV2(nn.Module):\n",
        "  def __init__(self):\n",
        "    super().__init__()\n",
        "\n",
        "    self.linear_layer = nn.Linear(in_features=1,\n",
        "                                  out_features=1)\n",
        "  def forward(self, x: torch.Tensor) -> torch.Tensor:\n",
        "    return self.linear_layer(x)\n",
        "\n",
        "#Set the manual seed\n",
        "torch.manual_seed(42)\n",
        "model_1 = LinearRregressionModelV2()\n",
        "model_1, model_1.state_dict()"
      ],
      "metadata": {
        "colab": {
          "base_uri": "https://localhost:8080/"
        },
        "id": "4NrZotS6yld4",
        "outputId": "fb84486f-a5f3-4b5f-bb5c-6bc23100f829"
      },
      "execution_count": null,
      "outputs": [
        {
          "output_type": "execute_result",
          "data": {
            "text/plain": [
              "(LinearRregressionModelV2(\n",
              "   (linear_layer): Linear(in_features=1, out_features=1, bias=True)\n",
              " ),\n",
              " OrderedDict([('linear_layer.weight', tensor([[0.7645]])),\n",
              "              ('linear_layer.bias', tensor([0.8300]))]))"
            ]
          },
          "metadata": {},
          "execution_count": 97
        }
      ]
    },
    {
      "cell_type": "code",
      "source": [
        "X_train[:5], Y_train[:5]"
      ],
      "metadata": {
        "colab": {
          "base_uri": "https://localhost:8080/"
        },
        "id": "18GYGtBezdDH",
        "outputId": "8ed6a8fb-5933-4e75-da28-ad368e19aa2a"
      },
      "execution_count": null,
      "outputs": [
        {
          "output_type": "execute_result",
          "data": {
            "text/plain": [
              "(tensor([[0.0000],\n",
              "         [0.0200],\n",
              "         [0.0400],\n",
              "         [0.0600],\n",
              "         [0.0800]]),\n",
              " tensor([[0.2000],\n",
              "         [0.2160],\n",
              "         [0.2320],\n",
              "         [0.2480],\n",
              "         [0.2640]]))"
            ]
          },
          "metadata": {},
          "execution_count": 98
        }
      ]
    },
    {
      "cell_type": "code",
      "source": [
        "#Check the current device\n",
        "next(model_1.parameters()).device"
      ],
      "metadata": {
        "colab": {
          "base_uri": "https://localhost:8080/"
        },
        "id": "Q7zWrF9E1XN8",
        "outputId": "bcf9dbe4-4f60-4129-ba0b-5f00f14e26c5"
      },
      "execution_count": null,
      "outputs": [
        {
          "output_type": "execute_result",
          "data": {
            "text/plain": [
              "device(type='cpu')"
            ]
          },
          "metadata": {},
          "execution_count": 99
        }
      ]
    },
    {
      "cell_type": "code",
      "source": [
        "# Set the model to use in the target device\n",
        "model_1.to(device)\n",
        "next(model_1.parameters()).device"
      ],
      "metadata": {
        "colab": {
          "base_uri": "https://localhost:8080/"
        },
        "id": "3pURDc9d1gfK",
        "outputId": "c6c76310-ac43-418c-d871-aa160ee8e962"
      },
      "execution_count": null,
      "outputs": [
        {
          "output_type": "execute_result",
          "data": {
            "text/plain": [
              "device(type='cuda', index=0)"
            ]
          },
          "metadata": {},
          "execution_count": 100
        }
      ]
    },
    {
      "cell_type": "markdown",
      "source": [
        "### 6.3 Training\n",
        "\n",
        "Wee need\n",
        "\n",
        "Loss Function\n",
        "\n",
        "Optimizer\n",
        "\n",
        "Training Loop\n",
        "\n",
        "Testing Loop\n",
        "\n"
      ],
      "metadata": {
        "id": "HQa4Zo3_CjGr"
      }
    },
    {
      "cell_type": "code",
      "source": [
        "# Setup loss function and Optimizer\n",
        "\n",
        "loss_fn = nn.L1Loss()\n",
        "\n",
        "optimizer = torch.optim.SGD(params = model_1.parameters(), lr = 0.01)"
      ],
      "metadata": {
        "id": "kquUtkbaCnoW"
      },
      "execution_count": null,
      "outputs": []
    },
    {
      "cell_type": "code",
      "source": [
        "#Let's write the training loop\n",
        "\n",
        "torch.manual_seed(42)\n",
        "\n",
        "epochs = 200\n",
        "\n",
        "# Put data to the same device\n",
        "X_train = X_train.to(device)\n",
        "Y_train = Y_train.to(device)\n",
        "X_test = X_test.to(device)\n",
        "Y_test = Y_test.to(device)\n",
        "\n",
        "for epoch in range(epochs):\n",
        "  model_1.train()\n",
        "\n",
        "  # 1. Forward pass\n",
        "  y_pred = model_1(X_train)\n",
        "\n",
        "  # 2. Calculate the loss\n",
        "  loss = loss_fn(y_pred, Y_train)\n",
        "\n",
        "  # 3. Optimizer zero grad\n",
        "  optimizer.zero_grad()\n",
        "\n",
        "  # 4. Perform backpropagation\n",
        "  loss.backward()\n",
        "\n",
        "  # 5. Optimizer forward\n",
        "  optimizer.step()\n",
        "\n",
        "  ### Testing\n",
        "  model_1.eval()\n",
        "  with torch.inference_mode():\n",
        "    test_pred = model_1(X_test)\n",
        "\n",
        "    test_loss = loss_fn(test_pred, Y_test)\n",
        "\n",
        "    if epoch % 10 == 0:\n",
        "      print(f\"Epoch: {epoch} | Loss: {loss} | Test loss: {test_loss} \")\n"
      ],
      "metadata": {
        "colab": {
          "base_uri": "https://localhost:8080/"
        },
        "id": "e6DuG3lyDibF",
        "outputId": "63c1870c-e9b8-4aa2-ee48-85b096fda98b"
      },
      "execution_count": null,
      "outputs": [
        {
          "output_type": "stream",
          "name": "stdout",
          "text": [
            "Epoch: 0 | Loss: 0.6161779165267944 | Test loss: 0.5849762558937073 \n",
            "Epoch: 10 | Loss: 0.5009680986404419 | Test loss: 0.45026642084121704 \n",
            "Epoch: 20 | Loss: 0.3857581913471222 | Test loss: 0.3155565857887268 \n",
            "Epoch: 30 | Loss: 0.2705483138561249 | Test loss: 0.180846706032753 \n",
            "Epoch: 40 | Loss: 0.15533843636512756 | Test loss: 0.046136897057294846 \n",
            "Epoch: 50 | Loss: 0.05875825881958008 | Test loss: 0.06886561214923859 \n",
            "Epoch: 60 | Loss: 0.04580378159880638 | Test loss: 0.09473040699958801 \n",
            "Epoch: 70 | Loss: 0.041819483041763306 | Test loss: 0.09405827522277832 \n",
            "Epoch: 80 | Loss: 0.03831038996577263 | Test loss: 0.08853326737880707 \n",
            "Epoch: 90 | Loss: 0.034879546612501144 | Test loss: 0.08094760775566101 \n",
            "Epoch: 100 | Loss: 0.03144557774066925 | Test loss: 0.07267507165670395 \n",
            "Epoch: 110 | Loss: 0.028006771579384804 | Test loss: 0.06440252810716629 \n",
            "Epoch: 120 | Loss: 0.024577612057328224 | Test loss: 0.056816864758729935 \n",
            "Epoch: 130 | Loss: 0.021141953766345978 | Test loss: 0.04854437708854675 \n",
            "Epoch: 140 | Loss: 0.017704110592603683 | Test loss: 0.040958791971206665 \n",
            "Epoch: 150 | Loss: 0.014275657944381237 | Test loss: 0.03268631175160408 \n",
            "Epoch: 160 | Loss: 0.010838326066732407 | Test loss: 0.02441384270787239 \n",
            "Epoch: 170 | Loss: 0.007402162533253431 | Test loss: 0.016828244552016258 \n",
            "Epoch: 180 | Loss: 0.0039735035970807076 | Test loss: 0.008555757813155651 \n",
            "Epoch: 190 | Loss: 0.008990190923213959 | Test loss: 0.005145949311554432 \n"
          ]
        }
      ]
    },
    {
      "cell_type": "code",
      "source": [
        "model_1.state_dict()"
      ],
      "metadata": {
        "colab": {
          "base_uri": "https://localhost:8080/"
        },
        "id": "TpGbbYSsGTzt",
        "outputId": "4043f772-8eaa-4f26-9d23-090e99e63cc8"
      },
      "execution_count": null,
      "outputs": [
        {
          "output_type": "execute_result",
          "data": {
            "text/plain": [
              "OrderedDict([('linear_layer.weight', tensor([[0.7987]], device='cuda:0')),\n",
              "             ('linear_layer.bias', tensor([0.2095], device='cuda:0'))])"
            ]
          },
          "metadata": {},
          "execution_count": 103
        }
      ]
    },
    {
      "cell_type": "markdown",
      "source": [
        "### 6.4 Making and evaluating predictions"
      ],
      "metadata": {
        "id": "ejYfgmgIG4u7"
      }
    },
    {
      "cell_type": "code",
      "source": [
        "# Turn model in evaluation mode\n",
        "\n",
        "model_1.eval()\n",
        "X_test.to(device)\n",
        "y_preds.to(device)\n",
        "# Make predictions on the test data\n",
        "with torch.inference_mode():\n",
        "  y_preds = model_1(X_test)\n",
        "y_preds"
      ],
      "metadata": {
        "colab": {
          "base_uri": "https://localhost:8080/"
        },
        "id": "DgCQfuB9G-Np",
        "outputId": "3cbc8624-da48-4509-b7dd-da146c0a1ed7"
      },
      "execution_count": null,
      "outputs": [
        {
          "output_type": "execute_result",
          "data": {
            "text/plain": [
              "tensor([[0.8484],\n",
              "        [0.8644],\n",
              "        [0.8804],\n",
              "        [0.8964],\n",
              "        [0.9123],\n",
              "        [0.9283],\n",
              "        [0.9443],\n",
              "        [0.9603],\n",
              "        [0.9762],\n",
              "        [0.9922]], device='cuda:0')"
            ]
          },
          "metadata": {},
          "execution_count": 104
        }
      ]
    },
    {
      "cell_type": "code",
      "source": [
        "#Check out our model predictions visually\n",
        "\n",
        "def plot_predictions(train_data, train_labels, test_data, test_labels, predictions):\n",
        "    # Plot training data in blue\n",
        "    plt.scatter(train_data, train_labels, c=\"b\", s=4, label=\"Training data\")\n",
        "\n",
        "    # Plot testing data in green\n",
        "    plt.scatter(test_data, test_labels, c=\"g\", s=4, label=\"Testing data\")\n",
        "\n",
        "    # Plot predictions in red\n",
        "    plt.scatter(test_data, predictions, c=\"r\", s=4, label=\"Predictions\")\n",
        "\n",
        "    plt.xlabel(\"X values\")\n",
        "    plt.ylabel(\"Y values\")\n",
        "    plt.legend()\n",
        "    plt.title(\"Training Data, Testing Data, and Predictions\")\n",
        "    plt.show()\n",
        "\n",
        "# Assuming you have X_train, Y_train, X_test, Y_test, and y_preds defined\n",
        "plot_predictions(X_train.cpu().numpy(), Y_train.cpu().numpy(), X_test.cpu().numpy(), Y_test.cpu().numpy(), y_preds.cpu().detach().numpy())"
      ],
      "metadata": {
        "colab": {
          "base_uri": "https://localhost:8080/",
          "height": 472
        },
        "id": "yS9qDM23HgNd",
        "outputId": "041cc8bd-0c83-4c55-cf3c-a9cdb66a18d1"
      },
      "execution_count": null,
      "outputs": [
        {
          "output_type": "display_data",
          "data": {
            "text/plain": [
              "<Figure size 640x480 with 1 Axes>"
            ],
            "image/png": "[encoded data removed]"
          },
          "metadata": {}
        }
      ]
    },
    {
      "cell_type": "markdown",
      "source": [
        "### 6.5 Saving & loading a training model"
      ],
      "metadata": {
        "id": "Yo1xHoXvSTfS"
      }
    },
    {
      "cell_type": "code",
      "source": [
        "from pathlib import Path\n",
        "\n",
        "# 1. Create models directory\n",
        "MODEL_PATH = Path(\"models\")\n",
        "MODEL_PATH.mkdir(parents = True, exist_ok = True)\n",
        "\n",
        "# 2. Create model save path\n",
        "MODEL_NAME = \"01_pytorch_workflow_model_1.pth\"\n",
        "MODEL_SAVE_PATH = MODEL_PATH/MODEL_NAME\n",
        "MODEL_SAVE_PATH\n",
        "\n",
        "# 3. Save the model state dic\n",
        "print(f\"Saving the model to: {MODEL_SAVE_PATH}\")\n",
        "torch.save(obj=model_1.state_dict(),\n",
        "           f=MODEL_SAVE_PATH)"
      ],
      "metadata": {
        "colab": {
          "base_uri": "https://localhost:8080/"
        },
        "id": "VfB-tdfcSbWo",
        "outputId": "8dbf83cd-ca12-463f-fdd8-5224020be383"
      },
      "execution_count": null,
      "outputs": [
        {
          "output_type": "stream",
          "name": "stdout",
          "text": [
            "Saving the model to: models/01_pytorch_workflow_model_1.pth\n"
          ]
        }
      ]
    },
    {
      "cell_type": "code",
      "source": [
        "model_1.state_dict()"
      ],
      "metadata": {
        "colab": {
          "base_uri": "https://localhost:8080/"
        },
        "id": "gYdSQrXOT-l2",
        "outputId": "11e7dd40-f218-4a22-c8a1-0e257d00952a"
      },
      "execution_count": null,
      "outputs": [
        {
          "output_type": "execute_result",
          "data": {
            "text/plain": [
              "OrderedDict([('linear_layer.weight', tensor([[0.7987]], device='cuda:0')),\n",
              "             ('linear_layer.bias', tensor([0.2095], device='cuda:0'))])"
            ]
          },
          "metadata": {},
          "execution_count": 111
        }
      ]
    },
    {
      "cell_type": "code",
      "source": [
        "# Load a Pytorch model\n",
        "#Create an instance of the model class\n",
        "loaded_model_1 = LinearRregressionModelV2()\n",
        "\n",
        "#Load the saved model_1 state_dict\n",
        "loaded_model_1.load_state_dict(torch.load(MODEL_SAVE_PATH))\n",
        "\n",
        "# Put the loaded model to device\n",
        "\n",
        "loaded_model_1.to(device)"
      ],
      "metadata": {
        "colab": {
          "base_uri": "https://localhost:8080/"
        },
        "id": "DCoCMOf8UC-5",
        "outputId": "07bf8cff-b09e-4f45-a7ff-f960c2f8a992"
      },
      "execution_count": null,
      "outputs": [
        {
          "output_type": "execute_result",
          "data": {
            "text/plain": [
              "LinearRregressionModelV2(\n",
              "  (linear_layer): Linear(in_features=1, out_features=1, bias=True)\n",
              ")"
            ]
          },
          "metadata": {},
          "execution_count": 112
        }
      ]
    },
    {
      "cell_type": "code",
      "source": [
        "next(loaded_model_1.parameters()).device"
      ],
      "metadata": {
        "colab": {
          "base_uri": "https://localhost:8080/"
        },
        "id": "NesdRB-XUr2p",
        "outputId": "a62417fa-d8f2-49ae-c262-366fec641cdc"
      },
      "execution_count": null,
      "outputs": [
        {
          "output_type": "execute_result",
          "data": {
            "text/plain": [
              "device(type='cuda', index=0)"
            ]
          },
          "metadata": {},
          "execution_count": 113
        }
      ]
    },
    {
      "cell_type": "code",
      "source": [
        "loaded_model_1.state_dict()"
      ],
      "metadata": {
        "colab": {
          "base_uri": "https://localhost:8080/"
        },
        "id": "ckDC8fyjU3zZ",
        "outputId": "884b3fe2-a2fc-4574-ecde-2009b70d16cc"
      },
      "execution_count": null,
      "outputs": [
        {
          "output_type": "execute_result",
          "data": {
            "text/plain": [
              "OrderedDict([('linear_layer.weight', tensor([[0.7987]], device='cuda:0')),\n",
              "             ('linear_layer.bias', tensor([0.2095], device='cuda:0'))])"
            ]
          },
          "metadata": {},
          "execution_count": 114
        }
      ]
    },
    {
      "cell_type": "code",
      "source": [
        "#Evaluate the loaded model\n",
        "\n",
        "loaded_model_1.eval()\n",
        "with torch.inference_mode():\n",
        "  loaded_model_1_preds = loaded_model_1(X_test)\n",
        "y_preds == loaded_model_1_preds"
      ],
      "metadata": {
        "colab": {
          "base_uri": "https://localhost:8080/"
        },
        "id": "RSH8wx63VAWW",
        "outputId": "6d78d6ed-ba80-4506-edde-cb3a686c652a"
      },
      "execution_count": null,
      "outputs": [
        {
          "output_type": "execute_result",
          "data": {
            "text/plain": [
              "tensor([[True],\n",
              "        [True],\n",
              "        [True],\n",
              "        [True],\n",
              "        [True],\n",
              "        [True],\n",
              "        [True],\n",
              "        [True],\n",
              "        [True],\n",
              "        [True]], device='cuda:0')"
            ]
          },
          "metadata": {},
          "execution_count": 115
        }
      ]
    }
  ]
}